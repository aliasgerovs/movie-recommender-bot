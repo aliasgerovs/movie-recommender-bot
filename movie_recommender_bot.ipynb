{
  "nbformat": 4,
  "nbformat_minor": 0,
  "metadata": {
    "colab": {
      "provenance": []
    },
    "kernelspec": {
      "name": "python3",
      "display_name": "Python 3"
    },
    "language_info": {
      "name": "python"
    }
  },
  "cells": [
    {
      "cell_type": "code",
      "metadata": {
        "colab": {
          "base_uri": "https://localhost:8080/"
        },
        "id": "qwbrj3-YrTY4",
        "outputId": "867a3ddb-a8ce-42a5-d26e-9049750f45cd"
      },
      "source": [
        "!git clone https://github.com/Priyansi/python-i-am-bored-telegram-bot"
      ],
      "execution_count": null,
      "outputs": [
        {
          "output_type": "stream",
          "text": [
            "Cloning into 'python-i-am-bored-telegram-bot'...\n",
            "remote: Enumerating objects: 53, done.\u001b[K\n",
            "remote: Counting objects: 100% (53/53), done.\u001b[K\n",
            "remote: Compressing objects: 100% (47/47), done.\u001b[K\n",
            "remote: Total 53 (delta 22), reused 22 (delta 4), pack-reused 0\u001b[K\n",
            "Unpacking objects: 100% (53/53), done.\n"
          ],
          "name": "stdout"
        }
      ]
    },
    {
      "cell_type": "code",
      "metadata": {
        "colab": {
          "base_uri": "https://localhost:8080/"
        },
        "id": "zEKaYa1srZeR",
        "outputId": "9984afae-e47f-48c5-cbc7-7624656ee056"
      },
      "source": [
        "cd /content/python-i-am-bored-telegram-bot"
      ],
      "execution_count": null,
      "outputs": [
        {
          "output_type": "stream",
          "text": [
            "/content/python-i-am-bored-telegram-bot\n"
          ],
          "name": "stdout"
        }
      ]
    },
    {
      "cell_type": "code",
      "metadata": {
        "id": "mI-nhuJsrlGX"
      },
      "source": [
        "from telegram.ext import(CommandHandler, MessageHandler, Filters, Updater)\n",
        "import logging\n",
        "import random\n",
        "import os\n",
        "from get_random_meme import get_meme\n",
        "from get_gangsta_text import text\n",
        "from get_movie_series import (get_recommendation, get_similar)\n",
        "from get_text_insult import get_insult\n",
        "from get_xkcd import get_comic\n",
        "PORT = int(os.environ.get('PORT', 5000))\n",
        "NEWLINE = '\\n'\n",
        "WHITESPACE = ' '\n",
        "\n",
        "\n",
        "def meme(update, context):\n",
        "    text = update.message.text.replace('/meme', ' ').strip()\n",
        "    if text == '':\n",
        "        response = get_meme()\n",
        "        context.bot.send_photo(\n",
        "            chat_id=update.effective_chat.id, photo=response[0], caption=response[1])\n",
        "    else:\n",
        "        response = get_meme(text.split(' '))\n",
        "        if response == 0:\n",
        "            context.bot.send_message(\n",
        "                chat_id=update.effective_chat.id, text=\"This subreddit doesn't contain memes. Type /meme for random memes.\")\n",
        "        elif \"Sorry\" in response:\n",
        "            context.bot.send_message(\n",
        "                chat_id=update.effective_chat.id, text=response+\" Type /meme for random memes\")\n",
        "        else:\n",
        "            context.bot.send_photo(\n",
        "                chat_id=update.effective_chat.id, photo=response[0], caption=response[1])\n",
        "\n",
        "\n",
        "def start(update, context):\n",
        "    context.bot.send_message(\n",
        "        chat_id=update.effective_chat.id, text=\"A little birdy told me you're bored.\\nWhat's up?\")\n",
        "\n",
        "\n",
        "def is_bad_word(text):\n",
        "    with open(\"bad_words.txt\") as file:\n",
        "        bad_words = set(file.read().split(NEWLINE))\n",
        "        return len(text & bad_words) > 0\n",
        "\n",
        "\n",
        "def xkcd(update, context):\n",
        "    context.bot.send_photo(\n",
        "        chat_id=update.effective_chat.id, photo=get_comic())\n",
        "\n",
        "\n",
        "def insult(update, context):\n",
        "    message = update.message.text.replace('/insult', ' ').strip()\n",
        "    response = get_insult()\n",
        "    if message == '':\n",
        "        context.bot.send_message(\n",
        "            chat_id=update.effective_chat.id, text=response)\n",
        "    else:\n",
        "        context.bot.send_message(\n",
        "            chat_id=update.effective_chat.id, text=message+\" \"+response.lower())\n",
        "\n",
        "\n",
        "def gangsta(update, context):\n",
        "    message = update.message.text.replace('/gangsta', ' ').strip()\n",
        "    if message == '':\n",
        "        context.bot.send_message(\n",
        "            chat_id=update.effective_chat.id, text=\"Type suttin' afta /gangsta dawg.\")\n",
        "    else:\n",
        "        context.bot.send_message(\n",
        "            chat_id=update.effective_chat.id, text=\"Itz pronounced like '\"+text(message)+\"' up in tha streets.\")\n",
        "\n",
        "\n",
        "def recommend(update, context):\n",
        "    response = get_recommendation()\n",
        "    context.bot.send_message(\n",
        "        chat_id=update.effective_chat.id, text=\"Title : {}\\n\\nOverview : {}\\n\\nAverage vote : {}\".format(response[\"title\"], response[\"overview\"], response[\"vote\"]))\n",
        "    context.bot.send_photo(\n",
        "        chat_id=update.effective_chat.id, photo=response[\"poster\"], caption=\"Here's the poster.\")\n",
        "\n",
        "\n",
        "def similar(update, context):\n",
        "    message = update.message.text.replace('/similar', ' ').strip()\n",
        "    if message == '':\n",
        "        context.bot.send_message(\n",
        "            chat_id=update.effective_chat.id, text=\"Type a movie name after /similar.\")\n",
        "    else:\n",
        "        response = get_similar(message)\n",
        "        if response == 0:\n",
        "            context.bot.send_message(\n",
        "                chat_id=update.effective_chat.id, text=\"Couldn't find movie. Try again.\")\n",
        "        elif response == 1:\n",
        "            context.bot.send_message(\n",
        "                chat_id=update.effective_chat.id, text=\"Couldn't find similar movie. Try again.\")\n",
        "        else:\n",
        "            context.bot.send_message(chat_id=update.effective_chat.id, text=\"Title : {}\\n\\nOverview : {}\\n\\nAverage vote : {}\".format(\n",
        "                response[\"title\"], response[\"overview\"], response[\"vote\"]))\n",
        "            context.bot.send_photo(chat_id=update.effective_chat.id,\n",
        "                                   photo=response[\"poster\"], caption=\"Here's the poster.\")\n",
        "\n",
        "\n",
        "def bad_word(update, context):\n",
        "    text = set(word.strip('.')\n",
        "               for word in set(update.message.text.lower().split(WHITESPACE)))\n",
        "    if is_bad_word(text):\n",
        "        with open('insults_image_urls.txt', 'r') as file:\n",
        "            urls = file.read().split('\\n')\n",
        "        context.bot.send_photo(chat_id=update.effective_chat.id,\n",
        "                               photo=random.choice(urls), caption='@' + update.message.from_user.username)\n",
        "\n",
        "\n",
        "if __name__ == \"__main__\":\n",
        "    updater = Updater(\n",
        "        token='BOT_TOKEN', use_context=True)\n",
        "    dispatcher = updater.dispatcher\n",
        "    logging.basicConfig(format='%(asctime)s - %(name)s - %(levelname)s - %(message)s',\n",
        "                        level=logging.INFO)\n",
        "\n",
        "    bad_words_handler = MessageHandler(\n",
        "        Filters.text & (~Filters.command), bad_word)\n",
        "    dispatcher.add_handler(bad_words_handler)\n",
        "\n",
        "    start_handler = CommandHandler('start', start)\n",
        "    dispatcher.add_handler(start_handler)\n",
        "\n",
        "    meme_handler = CommandHandler('meme', meme)\n",
        "    dispatcher.add_handler(meme_handler)\n",
        "\n",
        "    gangsta_handler = CommandHandler('gangsta', gangsta)\n",
        "    dispatcher.add_handler(gangsta_handler)\n",
        "\n",
        "    recommend_handler = CommandHandler('recommend', recommend)\n",
        "    dispatcher.add_handler(recommend_handler)\n",
        "\n",
        "    similar_handler = CommandHandler('similar', similar)\n",
        "    dispatcher.add_handler(similar_handler)\n",
        "\n",
        "    insult_handler = CommandHandler('insult', insult)\n",
        "    dispatcher.add_handler(insult_handler)\n",
        "\n",
        "    xkcd_handler = CommandHandler('xkcd', xkcd)\n",
        "    dispatcher.add_handler(xkcd_handler)\n",
        "\n",
        "    updater.start_webhook(listen=\"0.0.0.0\",\n",
        "                          port=int(PORT),\n",
        "                          url_path='BOT_TOKEN')\n",
        "    updater.bot.setWebhook('APP_URL' +\n",
        "                           'BOT_TOKEN')\n",
        "    updater.idle()\n"
      ],
      "execution_count": null,
      "outputs": []
    }
  ]
}